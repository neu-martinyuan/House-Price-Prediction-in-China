{
 "cells": [
  {
   "cell_type": "code",
   "execution_count": 1,
   "metadata": {},
   "outputs": [],
   "source": [
    "import pandas as pd\n",
    "import numpy as np\n",
    "import os\n",
    "import matplotlib.pyplot as plt"
   ]
  },
  {
   "cell_type": "markdown",
   "metadata": {},
   "source": [
    "1998-2017 datasets cleansing"
   ]
  },
  {
   "cell_type": "code",
   "execution_count": null,
   "metadata": {},
   "outputs": [],
   "source": [
    "housing_price = pd.read_csv(os.path.join('data','price_paid_records.csv'))\n",
    "housing_price.head()"
   ]
  },
  {
   "cell_type": "code",
   "execution_count": null,
   "metadata": {},
   "outputs": [],
   "source": [
    "index = housing_price.index\n",
    "number_of_rows = len(index)\n",
    "number_of_rows"
   ]
  },
  {
   "cell_type": "code",
   "execution_count": null,
   "metadata": {},
   "outputs": [],
   "source": [
    "housing_price = housing_price[['Price', 'Date of Transfer','Town/City', 'District', 'County']]\n",
    "housing_price"
   ]
  },
  {
   "cell_type": "code",
   "execution_count": null,
   "metadata": {},
   "outputs": [],
   "source": [
    "housing_price1998 = housing_price[housing_price['Date of Transfer'].str.startswith('1998')]\n",
    "housing_price1998"
   ]
  },
  {
   "cell_type": "code",
   "execution_count": null,
   "metadata": {},
   "outputs": [],
   "source": [
    "housing_price = housing_price[2855141:]"
   ]
  },
  {
   "cell_type": "code",
   "execution_count": null,
   "metadata": {},
   "outputs": [],
   "source": [
    "housing_price"
   ]
  },
  {
   "cell_type": "code",
   "execution_count": null,
   "metadata": {},
   "outputs": [],
   "source": [
    "housing_price_name = housing_price['District'].unique().tolist()"
   ]
  },
  {
   "cell_type": "code",
   "execution_count": null,
   "metadata": {},
   "outputs": [],
   "source": [
    "len(housing_price_name)"
   ]
  },
  {
   "cell_type": "code",
   "execution_count": null,
   "metadata": {},
   "outputs": [],
   "source": [
    "# GDP\n",
    "gdp = pd.read_excel(os.path.join('data','regionalgrossdomesticproductgdpcityregions.xlsx'), sheet_name='Table 5')\n",
    "gdp.head()"
   ]
  },
  {
   "cell_type": "code",
   "execution_count": null,
   "metadata": {},
   "outputs": [],
   "source": [
    "# Population\n",
    "population = pd.read_excel(os.path.join('data','regionalgrossdomesticproductgdpcityregions.xlsx'), sheet_name='Table 6')\n",
    "population.head()"
   ]
  },
  {
   "cell_type": "code",
   "execution_count": null,
   "metadata": {},
   "outputs": [],
   "source": [
    "gdp = gdp[gdp['Area type'] == 'LA']\n",
    "population = population[population['Area type'] == 'LA']"
   ]
  },
  {
   "cell_type": "code",
   "execution_count": null,
   "metadata": {},
   "outputs": [],
   "source": [
    "def common_member(a, b): \n",
    "    a_set = set([x.upper() for x in a]) \n",
    "    b_set = set([x.upper() for x in b])\n",
    "  \n",
    "    if (a_set & b_set): \n",
    "        print(len(a_set & b_set))\n",
    "        return list(a_set & b_set)\n",
    "    else: \n",
    "        print(\"No common elements\")  "
   ]
  },
  {
   "cell_type": "code",
   "execution_count": null,
   "metadata": {},
   "outputs": [],
   "source": [
    "def different_member(a, b):\n",
    "    a = [x.upper() for x in a]\n",
    "    b = [x.upper() for x in b]\n",
    "    return (list(list(set(a)-set(b)) + list(set(b)-set(a))))"
   ]
  },
  {
   "cell_type": "code",
   "execution_count": null,
   "metadata": {},
   "outputs": [],
   "source": [
    "hp_pop_name = common_member(housing_price_name, gdp['Area name'].unique().tolist())\n",
    "hp_pop_name"
   ]
  },
  {
   "cell_type": "code",
   "execution_count": null,
   "metadata": {},
   "outputs": [],
   "source": [
    "# Keep the data with the same districts\n",
    "housing_price = housing_price[housing_price['District'].isin(hp_pop_name)]\n",
    "housing_price"
   ]
  },
  {
   "cell_type": "code",
   "execution_count": null,
   "metadata": {},
   "outputs": [],
   "source": []
  },
  {
   "cell_type": "code",
   "execution_count": null,
   "metadata": {},
   "outputs": [],
   "source": []
  },
  {
   "cell_type": "code",
   "execution_count": null,
   "metadata": {},
   "outputs": [],
   "source": [
    "# arrange the time\n",
    "for i in range(1998, 2018):\n",
    "    tmp = str(i)\n",
    "    housing_price.loc[housing_price['Date of Transfer'].str.startswith(tmp), 'Date of Transfer'] = tmp\n",
    "housing_price"
   ]
  },
  {
   "cell_type": "code",
   "execution_count": null,
   "metadata": {},
   "outputs": [],
   "source": [
    "# arrange the district's name\n",
    "gdp['Area name'] = gdp['Area name'].str.upper() \n",
    "population['Area name'] = population['Area name'].str.upper() "
   ]
  },
  {
   "cell_type": "code",
   "execution_count": null,
   "metadata": {
    "scrolled": false
   },
   "outputs": [],
   "source": [
    "gdp"
   ]
  },
  {
   "cell_type": "code",
   "execution_count": null,
   "metadata": {},
   "outputs": [],
   "source": [
    "y_data = [[]]\n",
    "#i = 0\n",
    "for name in hp_pop_name:\n",
    "    tmp1 = housing_price[housing_price['District'] == name]\n",
    "    for year in range(1998, 2018):\n",
    "        tmp2 = tmp1[tmp1['Date of Transfer'] == str(year)]\n",
    "        y_data.append(tmp2.Price.tolist())\n",
    "del y_data[0]\n",
    "len(y_data)"
   ]
  },
  {
   "cell_type": "code",
   "execution_count": null,
   "metadata": {},
   "outputs": [],
   "source": [
    "x_data = [[]]\n",
    "j = 0\n",
    "for name in hp_pop_name:\n",
    "    tmp1 = gdp[gdp['Area name'] == name]\n",
    "    tmp5 = population[population['Area name'] == name]\n",
    "    for year in range(1998, 2018):\n",
    "        x_data[j].append(int(tmp1[year]))\n",
    "        x_data[j].append(int(tmp5[year]))\n",
    "        j = j + 1\n",
    "        x_data.append([])\n",
    "len(x_data)"
   ]
  },
  {
   "cell_type": "code",
   "execution_count": null,
   "metadata": {},
   "outputs": [],
   "source": [
    "len(x_data)\n",
    "del x_data[2140]\n",
    "len(x_data)"
   ]
  },
  {
   "cell_type": "code",
   "execution_count": null,
   "metadata": {},
   "outputs": [],
   "source": [
    "# Deleting the none lists\n",
    "b = []\n",
    "for i in range(len(y_data)):\n",
    "    if len(y_data[i]) == 0:\n",
    "        b.append(i)"
   ]
  },
  {
   "cell_type": "code",
   "execution_count": null,
   "metadata": {},
   "outputs": [],
   "source": [
    "x_data = [x_data[i] for i in range(len(x_data)) if (i not in b)]\n",
    "y_data = [y_data[j] for j in range(len(y_data)) if (j not in b)]"
   ]
  },
  {
   "cell_type": "code",
   "execution_count": null,
   "metadata": {},
   "outputs": [],
   "source": [
    "len(x_data)"
   ]
  },
  {
   "cell_type": "code",
   "execution_count": null,
   "metadata": {},
   "outputs": [],
   "source": [
    "len(y_data)"
   ]
  },
  {
   "cell_type": "code",
   "execution_count": null,
   "metadata": {},
   "outputs": [],
   "source": [
    "count = 0\n",
    "res = 0\n",
    "tmp1 = 0\n",
    "tmp2 = 0\n",
    "for j in range(500, 5001):\n",
    "    for i in range(len(y_data)):\n",
    "        if len(y_data[i]) > j:\n",
    "            count = count + 1\n",
    "    print(count, j)\n",
    "    count = 0"
   ]
  },
  {
   "cell_type": "code",
   "execution_count": null,
   "metadata": {},
   "outputs": [],
   "source": [
    "b = []\n",
    "for i in range(len(y_data)):\n",
    "    if len(y_data[i]) <= 885: # 885 \n",
    "        b.append(i)"
   ]
  },
  {
   "cell_type": "code",
   "execution_count": null,
   "metadata": {},
   "outputs": [],
   "source": [
    "len(b)"
   ]
  },
  {
   "cell_type": "code",
   "execution_count": null,
   "metadata": {},
   "outputs": [],
   "source": [
    "x_data = [x_data[i] for i in range(len(x_data)) if (i not in b)]\n",
    "y_data = [y_data[j] for j in range(len(y_data)) if (j not in b)]"
   ]
  },
  {
   "cell_type": "code",
   "execution_count": null,
   "metadata": {},
   "outputs": [],
   "source": [
    "len(x_data)"
   ]
  },
  {
   "cell_type": "code",
   "execution_count": null,
   "metadata": {},
   "outputs": [],
   "source": [
    "for i in range(len(y_data)):\n",
    "    y_data[i] = y_data[i][:886] "
   ]
  },
  {
   "cell_type": "code",
   "execution_count": null,
   "metadata": {},
   "outputs": [],
   "source": [
    "from sklearn.datasets import make_regression\n",
    "from sklearn.multioutput import MultiOutputRegressor\n",
    "from sklearn.ensemble import GradientBoostingRegressor"
   ]
  },
  {
   "cell_type": "markdown",
   "metadata": {},
   "source": [
    "Predict Data"
   ]
  },
  {
   "cell_type": "code",
   "execution_count": null,
   "metadata": {},
   "outputs": [],
   "source": [
    "# Tokyo "
   ]
  },
  {
   "cell_type": "code",
   "execution_count": null,
   "metadata": {},
   "outputs": [],
   "source": [
    "# They are the GDP and population data in Shinjuku ku in Tokyo for 1990, 1995, 2000, 2005, 2010 and 2015 \n",
    "shinjuku_x_data = [[17812.788 ,296860], [21573.73,279048],[18842.2,286726],\n",
    "                   [15368.742,305716],[26615.52,326000],[19744.85,337556]]"
   ]
  },
  {
   "cell_type": "code",
   "execution_count": null,
   "metadata": {},
   "outputs": [],
   "source": [
    "output = MultiOutputRegressor(GradientBoostingRegressor(random_state=3)).fit(x_data, y_data).predict(shinjuku_x_data)"
   ]
  },
  {
   "cell_type": "code",
   "execution_count": null,
   "metadata": {},
   "outputs": [],
   "source": [
    "y_predict1 = []\n",
    "for i in range(len(output)):\n",
    "    y_predict1.append(sum(output[i])/len(output[i]))"
   ]
  },
  {
   "cell_type": "code",
   "execution_count": null,
   "metadata": {},
   "outputs": [],
   "source": [
    "year = [str(i) for i in range(1990, 2016, 5)]\n",
    "year"
   ]
  },
  {
   "cell_type": "code",
   "execution_count": null,
   "metadata": {},
   "outputs": [],
   "source": [
    "y_actual1 = [406896, 446998, 386666, 367857, 548372, 505609]"
   ]
  },
  {
   "cell_type": "code",
   "execution_count": 293,
   "metadata": {},
   "outputs": [],
   "source": [
    "y_actual1 = [590000, 414800, 406400, 410800, 548372, 505609]"
   ]
  },
  {
   "cell_type": "code",
   "execution_count": null,
   "metadata": {},
   "outputs": [],
   "source": [
    "plt.scatter(year, y_predict1, color='red')\n",
    "plt.scatter(year, y_actual1, color='blue')\n",
    "plt.plot(year, y_actual1)\n",
    "plt.plot(year, y_predict1)\n",
    "plt.show()"
   ]
  },
  {
   "cell_type": "code",
   "execution_count": null,
   "metadata": {},
   "outputs": [],
   "source": [
    "# Men Tou Gou - Beijing District"
   ]
  },
  {
   "cell_type": "code",
   "execution_count": null,
   "metadata": {},
   "outputs": [],
   "source": [
    "Men_Tou_Gou_x_data = [[557.81,239000],[622.6,240000],[746.13,241000],[822.8,244000],\n",
    "                      [963.215,290000],[1157.4287,294000],[1312.2032,298000],[1390.1877,303000],\n",
    "                      [1485.44902,306000],[1616.3466,308000],[1736.471,311000],[1918.3868,322000],\n",
    "                      [2136.33,331000],[2931.41,345000]]"
   ]
  },
  {
   "cell_type": "code",
   "execution_count": null,
   "metadata": {},
   "outputs": [],
   "source": [
    "output = MultiOutputRegressor(GradientBoostingRegressor(random_state=3)).fit(x_data, y_data).predict(Men_Tou_Gou_x_data)"
   ]
  },
  {
   "cell_type": "code",
   "execution_count": null,
   "metadata": {},
   "outputs": [],
   "source": [
    "y_predict = []\n",
    "for i in range(len(output)):\n",
    "    y_predict.append(sum(output[i])/len(output[i]))"
   ]
  },
  {
   "cell_type": "code",
   "execution_count": null,
   "metadata": {},
   "outputs": [],
   "source": [
    "y_actual = [213402,176107,237469,263299,242465,334411,519424,468838,455204]\n",
    "year2 = [str(i) for i in range(2011, 2020)]"
   ]
  },
  {
   "cell_type": "code",
   "execution_count": null,
   "metadata": {},
   "outputs": [],
   "source": [
    "year = [str(i) for i in range(2006, 2020)]"
   ]
  },
  {
   "cell_type": "code",
   "execution_count": null,
   "metadata": {},
   "outputs": [],
   "source": [
    "plt.scatter(year, y_predict, color='red')\n",
    "plt.scatter(year2, y_actual, color='blue')\n",
    "plt.plot(year2, y_actual)\n",
    "plt.plot(year, y_predict)\n",
    "plt.show()"
   ]
  }
 ],
 "metadata": {
  "kernelspec": {
   "display_name": "Python 3",
   "language": "python",
   "name": "python3"
  },
  "language_info": {
   "codemirror_mode": {
    "name": "ipython",
    "version": 3
   },
   "file_extension": ".py",
   "mimetype": "text/x-python",
   "name": "python",
   "nbconvert_exporter": "python",
   "pygments_lexer": "ipython3",
   "version": "3.8.5"
  }
 },
 "nbformat": 4,
 "nbformat_minor": 4
}
